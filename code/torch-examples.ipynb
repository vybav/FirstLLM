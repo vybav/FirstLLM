{
 "cells": [
  {
   "cell_type": "code",
   "execution_count": 1,
   "id": "initial_id",
   "metadata": {
    "collapsed": true,
    "ExecuteTime": {
     "end_time": "2023-11-03T04:52:14.296590Z",
     "start_time": "2023-11-03T04:52:13.609797Z"
    }
   },
   "outputs": [],
   "source": [
    "import torch\n",
    "import numpy as np\n",
    "import time\n",
    "from torch.nn import functional as F"
   ]
  },
  {
   "cell_type": "code",
   "execution_count": 3,
   "outputs": [
    {
     "name": "stdout",
     "output_type": "stream",
     "text": [
      "tensor([0.4875])\n"
     ]
    }
   ],
   "source": [
    "x = torch.tensor([-0.05], dtype=torch.float32)\n",
    "sig = F.sigmoid(x)\n",
    "print(sig)"
   ],
   "metadata": {
    "collapsed": false,
    "ExecuteTime": {
     "end_time": "2023-11-03T04:52:31.152579Z",
     "start_time": "2023-11-03T04:52:31.142189Z"
    }
   },
   "id": "1d0367ff0fce95fb"
  },
  {
   "cell_type": "code",
   "execution_count": 4,
   "outputs": [
    {
     "name": "stdout",
     "output_type": "stream",
     "text": [
      "tensor([1.])\n"
     ]
    }
   ],
   "source": [
    "x = torch.tensor([10], dtype=torch.float32)\n",
    "tanh = F.tanh(x)\n",
    "print(tanh)"
   ],
   "metadata": {
    "collapsed": false,
    "ExecuteTime": {
     "end_time": "2023-11-03T04:52:32.371358Z",
     "start_time": "2023-11-03T04:52:32.365141Z"
    }
   },
   "id": "30bbbe245bd67787"
  },
  {
   "cell_type": "code",
   "execution_count": 5,
   "outputs": [
    {
     "data": {
      "text/plain": "tensor([ 78,  22,  90, -85,  90,   8])"
     },
     "execution_count": 5,
     "metadata": {},
     "output_type": "execute_result"
    }
   ],
   "source": [
    "randint = torch.randint(-100, 100, (6,))\n",
    "randint"
   ],
   "metadata": {
    "collapsed": false,
    "ExecuteTime": {
     "end_time": "2023-11-03T04:52:33.992125Z",
     "start_time": "2023-11-03T04:52:33.974920Z"
    }
   },
   "id": "f4a61529a1d6800f"
  },
  {
   "cell_type": "code",
   "execution_count": 6,
   "outputs": [
    {
     "data": {
      "text/plain": "tensor([[0.1000, 1.2000],\n        [2.2000, 3.1000],\n        [4.9000, 5.2000]])"
     },
     "execution_count": 6,
     "metadata": {},
     "output_type": "execute_result"
    }
   ],
   "source": [
    "tensor = torch.tensor([[0.1, 1.2], [2.2, 3.1], [4.9, 5.2]])\n",
    "tensor"
   ],
   "metadata": {
    "collapsed": false,
    "ExecuteTime": {
     "end_time": "2023-11-03T04:52:35.155621Z",
     "start_time": "2023-11-03T04:52:35.151453Z"
    }
   },
   "id": "47d47806f8ee418a"
  },
  {
   "cell_type": "code",
   "execution_count": 7,
   "outputs": [
    {
     "data": {
      "text/plain": "tensor([[0., 0., 0.],\n        [0., 0., 0.]])"
     },
     "execution_count": 7,
     "metadata": {},
     "output_type": "execute_result"
    }
   ],
   "source": [
    "zeros = torch.zeros(2, 3)\n",
    "zeros"
   ],
   "metadata": {
    "collapsed": false,
    "ExecuteTime": {
     "end_time": "2023-11-03T04:52:36.424481Z",
     "start_time": "2023-11-03T04:52:36.418882Z"
    }
   },
   "id": "584efefc1f084d39"
  },
  {
   "cell_type": "code",
   "execution_count": 6,
   "outputs": [
    {
     "data": {
      "text/plain": "tensor([[1., 1., 1., 1.],\n        [1., 1., 1., 1.],\n        [1., 1., 1., 1.]])"
     },
     "execution_count": 6,
     "metadata": {},
     "output_type": "execute_result"
    }
   ],
   "source": [
    "ones = torch.ones(3, 4)\n",
    "ones"
   ],
   "metadata": {
    "collapsed": false,
    "ExecuteTime": {
     "end_time": "2023-10-08T04:27:56.356597Z",
     "start_time": "2023-10-08T04:27:56.344341Z"
    }
   },
   "id": "6c527abf161aa4c8"
  },
  {
   "cell_type": "code",
   "execution_count": 7,
   "outputs": [
    {
     "data": {
      "text/plain": "tensor([[0., 0., 0.],\n        [0., 0., 0.]])"
     },
     "execution_count": 7,
     "metadata": {},
     "output_type": "execute_result"
    }
   ],
   "source": [
    "empties = torch.empty(2,3)\n",
    "empties"
   ],
   "metadata": {
    "collapsed": false,
    "ExecuteTime": {
     "end_time": "2023-10-08T04:28:31.867497Z",
     "start_time": "2023-10-08T04:28:31.857562Z"
    }
   },
   "id": "5f9f9440fb7cc5b0"
  },
  {
   "cell_type": "code",
   "execution_count": 8,
   "outputs": [
    {
     "data": {
      "text/plain": "tensor([0, 1, 2, 3])"
     },
     "execution_count": 8,
     "metadata": {},
     "output_type": "execute_result"
    }
   ],
   "source": [
    "arange = torch.arange(4)\n",
    "arange"
   ],
   "metadata": {
    "collapsed": false,
    "ExecuteTime": {
     "end_time": "2023-10-08T04:29:01.519043Z",
     "start_time": "2023-10-08T04:29:01.507675Z"
    }
   },
   "id": "fe383fb4c3fc8200"
  },
  {
   "cell_type": "code",
   "execution_count": 9,
   "outputs": [
    {
     "data": {
      "text/plain": "tensor([ 3.0000,  4.7500,  6.5000,  8.2500, 10.0000])"
     },
     "execution_count": 9,
     "metadata": {},
     "output_type": "execute_result"
    }
   ],
   "source": [
    "linespace = torch.linspace(3, 10, steps=5)\n",
    "linespace"
   ],
   "metadata": {
    "collapsed": false,
    "ExecuteTime": {
     "end_time": "2023-10-08T04:29:52.626827Z",
     "start_time": "2023-10-08T04:29:52.615531Z"
    }
   },
   "id": "1a5384d37ad26ba3"
  },
  {
   "cell_type": "code",
   "execution_count": 10,
   "outputs": [
    {
     "data": {
      "text/plain": "tensor([1.0000e-10, 1.0000e-05, 1.0000e+00, 1.0000e+05, 1.0000e+10])"
     },
     "execution_count": 10,
     "metadata": {},
     "output_type": "execute_result"
    }
   ],
   "source": [
    "logspace = torch.logspace(start=-10, end=10, steps=5)\n",
    "logspace"
   ],
   "metadata": {
    "collapsed": false,
    "ExecuteTime": {
     "end_time": "2023-10-08T04:31:29.521484Z",
     "start_time": "2023-10-08T04:31:29.509945Z"
    }
   },
   "id": "d693d16047b477ad"
  },
  {
   "cell_type": "code",
   "execution_count": 11,
   "outputs": [
    {
     "data": {
      "text/plain": "tensor([[1., 0., 0., 0., 0.],\n        [0., 1., 0., 0., 0.],\n        [0., 0., 1., 0., 0.],\n        [0., 0., 0., 1., 0.],\n        [0., 0., 0., 0., 1.]])"
     },
     "execution_count": 11,
     "metadata": {},
     "output_type": "execute_result"
    }
   ],
   "source": [
    "eye = torch.eye(5)\n",
    "eye"
   ],
   "metadata": {
    "collapsed": false,
    "ExecuteTime": {
     "end_time": "2023-10-08T04:32:26.324850Z",
     "start_time": "2023-10-08T04:32:26.313990Z"
    }
   },
   "id": "63b1c09b4853635d"
  },
  {
   "cell_type": "code",
   "execution_count": 12,
   "outputs": [
    {
     "data": {
      "text/plain": "tensor([[0, 0, 0],\n        [0, 0, 0]])"
     },
     "execution_count": 12,
     "metadata": {},
     "output_type": "execute_result"
    }
   ],
   "source": [
    "a = torch.empty((2,3), dtype=torch.int64)\n",
    "empty_like = torch.empty_like(a)\n",
    "empty_like"
   ],
   "metadata": {
    "collapsed": false,
    "ExecuteTime": {
     "end_time": "2023-10-08T04:33:53.336720Z",
     "start_time": "2023-10-08T04:33:53.324350Z"
    }
   },
   "id": "b7ccd465af0a2aa1"
  },
  {
   "cell_type": "code",
   "execution_count": 2,
   "outputs": [
    {
     "name": "stdout",
     "output_type": "stream",
     "text": [
      "mps\n"
     ]
    }
   ],
   "source": [
    "device = 'mps' if torch.backends.mps.is_available() else 'CPU'\n",
    "print(device)"
   ],
   "metadata": {
    "collapsed": false,
    "ExecuteTime": {
     "end_time": "2023-10-08T05:16:25.052745Z",
     "start_time": "2023-10-08T05:16:25.047308Z"
    }
   },
   "id": "d84c816fddb52c3e"
  },
  {
   "cell_type": "code",
   "execution_count": 7,
   "outputs": [
    {
     "name": "stdout",
     "output_type": "stream",
     "text": [
      " 0.00056005\n"
     ]
    }
   ],
   "source": [
    "import time\n",
    "\n",
    "start_time = time.time()\n",
    "zeros = torch.zeros(1,1)\n",
    "end_time = time.time()\n",
    "\n",
    "elapsed_time = end_time - start_time\n",
    "print(f'{elapsed_time: .8f}')"
   ],
   "metadata": {
    "collapsed": false,
    "ExecuteTime": {
     "end_time": "2023-10-08T04:47:07.037673Z",
     "start_time": "2023-10-08T04:47:07.033786Z"
    }
   },
   "id": "4bec212960b970e1"
  },
  {
   "cell_type": "code",
   "execution_count": 3,
   "outputs": [
    {
     "name": "stdout",
     "output_type": "stream",
     "text": [
      "GPU:  0.25220609\n",
      "CPU:  56.33992696\n"
     ]
    }
   ],
   "source": [
    "import numpy as np\n",
    "\n",
    "torch_rand1 = torch.rand(200, 200, 200, 200).to(device)\n",
    "torch_rand2 = torch.rand(200, 200, 200, 200).to(device)\n",
    "\n",
    "np_rand1 = torch.rand(200, 200, 200, 200)\n",
    "np_rand2 = torch.rand(200, 200, 200, 200)\n",
    "\n",
    "start_time = time.time()\n",
    "\n",
    "rand = (torch_rand1 @ torch_rand2)\n",
    "\n",
    "end_time = time.time()\n",
    "elapsed_time = end_time - start_time\n",
    "print(f'GPU: {elapsed_time: .8f}')\n",
    "\n",
    "start_time = time.time()\n",
    "\n",
    "np_rand = np.multiply(np_rand1, np_rand2)\n",
    "\n",
    "end_time = time.time()\n",
    "elapsed_time = end_time - start_time\n",
    "print(f'CPU: {elapsed_time: .8f}')"
   ],
   "metadata": {
    "collapsed": false,
    "ExecuteTime": {
     "end_time": "2023-10-08T05:17:53.588869Z",
     "start_time": "2023-10-08T05:16:27.673190Z"
    }
   },
   "id": "72feb7a6404fb1e1"
  },
  {
   "cell_type": "code",
   "execution_count": 6,
   "outputs": [
    {
     "name": "stdout",
     "output_type": "stream",
     "text": [
      "tensor([1, 1, 1, 1, 0, 1, 1, 1, 1, 1])\n"
     ]
    }
   ],
   "source": [
    "#torch.multimonial for probability 1 \n",
    "\n",
    "probabilities = torch.tensor([0.4, 0.6])\n",
    "\n",
    "samples = torch.multinomial(probabilities, num_samples=10, replacement=True)\n",
    "\n",
    "print(samples)"
   ],
   "metadata": {
    "collapsed": false,
    "ExecuteTime": {
     "end_time": "2023-10-08T22:02:48.390174Z",
     "start_time": "2023-10-08T22:02:48.386424Z"
    }
   },
   "id": "c5943082233090ba"
  },
  {
   "cell_type": "code",
   "execution_count": 9,
   "outputs": [
    {
     "data": {
      "text/plain": "tensor([1, 2, 3, 4, 5])"
     },
     "execution_count": 9,
     "metadata": {},
     "output_type": "execute_result"
    }
   ],
   "source": [
    "cat_tensor = torch.tensor([1, 2, 3, 4])\n",
    "\n",
    "out = torch.cat((cat_tensor, torch.tensor([5])), dim=0)\n",
    "\n",
    "out"
   ],
   "metadata": {
    "collapsed": false,
    "ExecuteTime": {
     "end_time": "2023-10-08T22:07:35.403054Z",
     "start_time": "2023-10-08T22:07:35.396341Z"
    }
   },
   "id": "39b48a930a6834dc"
  },
  {
   "cell_type": "code",
   "execution_count": 10,
   "outputs": [
    {
     "data": {
      "text/plain": "tensor([[1., 0., 0., 0., 0.],\n        [1., 1., 0., 0., 0.],\n        [1., 1., 1., 0., 0.],\n        [1., 1., 1., 1., 0.],\n        [1., 1., 1., 1., 1.]])"
     },
     "execution_count": 10,
     "metadata": {},
     "output_type": "execute_result"
    }
   ],
   "source": [
    "#torch.tril which means triangle lower (prediction of future)\n",
    "\n",
    "out = torch.tril(torch.ones(5,5))\n",
    "\n",
    "out"
   ],
   "metadata": {
    "collapsed": false,
    "ExecuteTime": {
     "end_time": "2023-10-08T22:08:29.794166Z",
     "start_time": "2023-10-08T22:08:29.778538Z"
    }
   },
   "id": "9338a2912b897897"
  },
  {
   "cell_type": "code",
   "execution_count": 11,
   "outputs": [
    {
     "data": {
      "text/plain": "tensor([[1., 1., 1., 1., 1.],\n        [0., 1., 1., 1., 1.],\n        [0., 0., 1., 1., 1.],\n        [0., 0., 0., 1., 1.],\n        [0., 0., 0., 0., 1.]])"
     },
     "execution_count": 11,
     "metadata": {},
     "output_type": "execute_result"
    }
   ],
   "source": [
    "#torch.triu which means triangle upper (prediction of future)\n",
    "\n",
    "out = torch.triu(torch.ones(5,5))\n",
    "\n",
    "out"
   ],
   "metadata": {
    "collapsed": false,
    "ExecuteTime": {
     "end_time": "2023-10-08T22:09:19.091195Z",
     "start_time": "2023-10-08T22:09:19.073264Z"
    }
   },
   "id": "74f0b4ff49541d0"
  },
  {
   "cell_type": "code",
   "execution_count": 12,
   "outputs": [
    {
     "data": {
      "text/plain": "tensor([[0., -inf, -inf, -inf, -inf],\n        [0., 0., -inf, -inf, -inf],\n        [0., 0., 0., -inf, -inf],\n        [0., 0., 0., 0., -inf],\n        [0., 0., 0., 0., 0.]])"
     },
     "execution_count": 12,
     "metadata": {},
     "output_type": "execute_result"
    }
   ],
   "source": [
    "#torch.masked_fill (Exponential fills of given input, which is constant 2.71)\n",
    "\n",
    "out = torch.zeros(5,5).masked_fill(torch.tril(torch.ones(5,5)) == 0, float('-inf'))\n",
    "\n",
    "out"
   ],
   "metadata": {
    "collapsed": false,
    "ExecuteTime": {
     "end_time": "2023-10-08T22:12:50.817028Z",
     "start_time": "2023-10-08T22:12:50.800459Z"
    }
   },
   "id": "47510daa7bf098f5"
  },
  {
   "cell_type": "code",
   "execution_count": 13,
   "outputs": [
    {
     "data": {
      "text/plain": "tensor([[1., 0., 0., 0., 0.],\n        [1., 1., 0., 0., 0.],\n        [1., 1., 1., 0., 0.],\n        [1., 1., 1., 1., 0.],\n        [1., 1., 1., 1., 1.]])"
     },
     "execution_count": 13,
     "metadata": {},
     "output_type": "execute_result"
    }
   ],
   "source": [
    "torch.exp(out)"
   ],
   "metadata": {
    "collapsed": false,
    "ExecuteTime": {
     "end_time": "2023-10-08T22:13:14.519410Z",
     "start_time": "2023-10-08T22:13:14.502114Z"
    }
   },
   "id": "7e67936809628298"
  },
  {
   "cell_type": "code",
   "execution_count": 18,
   "outputs": [
    {
     "name": "stdout",
     "output_type": "stream",
     "text": [
      "torch.Size([2, 3, 4])\n"
     ]
    },
    {
     "data": {
      "text/plain": "torch.Size([4, 3, 2])"
     },
     "execution_count": 18,
     "metadata": {},
     "output_type": "execute_result"
    }
   ],
   "source": [
    "input = torch.zeros(2, 3, 4)\n",
    "\n",
    "print(input.shape)\n",
    "\n",
    "output = input.transpose(0, 2)\n",
    "\n",
    "output.shape"
   ],
   "metadata": {
    "collapsed": false,
    "ExecuteTime": {
     "end_time": "2023-10-08T22:16:36.670458Z",
     "start_time": "2023-10-08T22:16:36.666233Z"
    }
   },
   "id": "e2579762f12396fb"
  },
  {
   "cell_type": "code",
   "execution_count": 19,
   "outputs": [
    {
     "data": {
      "text/plain": "tensor([[1, 2, 3],\n        [4, 5, 3],\n        [6, 9, 3]])"
     },
     "execution_count": 19,
     "metadata": {},
     "output_type": "execute_result"
    }
   ],
   "source": [
    "#torch.stack -- stack the tensors along a new dimension\n",
    "\n",
    "tensor1 = torch.tensor([1, 2, 3])\n",
    "tensor2 = torch.tensor([4, 5, 3])\n",
    "tensor3 = torch.tensor([6, 9, 3])\n",
    "\n",
    "stacked_tensor = torch.stack((tensor1, tensor2, tensor3))\n",
    "\n",
    "stacked_tensor"
   ],
   "metadata": {
    "collapsed": false,
    "ExecuteTime": {
     "end_time": "2023-10-08T22:19:13.288542Z",
     "start_time": "2023-10-08T22:19:13.270940Z"
    }
   },
   "id": "7937578f82d5abad"
  },
  {
   "cell_type": "code",
   "execution_count": 20,
   "outputs": [
    {
     "name": "stdout",
     "output_type": "stream",
     "text": [
      "tensor([-6.5271, -3.7748,  3.9930], grad_fn=<SqueezeBackward4>)\n"
     ]
    }
   ],
   "source": [
    "#nn.linear() -- \n",
    "\n",
    "import torch.nn as nn\n",
    "\n",
    "sample = torch.tensor([10., 10., 10.])\n",
    "linear = nn.Linear(3, 3, bias=False)\n",
    "\n",
    "print(linear(sample))"
   ],
   "metadata": {
    "collapsed": false,
    "ExecuteTime": {
     "end_time": "2023-10-08T22:25:56.996848Z",
     "start_time": "2023-10-08T22:25:56.972017Z"
    }
   },
   "id": "868188f57e82cd58"
  },
  {
   "cell_type": "code",
   "execution_count": 21,
   "outputs": [
    {
     "name": "stdout",
     "output_type": "stream",
     "text": [
      "tensor([3.2852e-04, 2.4275e-03, 9.7931e-01, 1.7937e-02])\n"
     ]
    }
   ],
   "source": [
    "#softmax - Exponentiates the given input , add them together and divide each exp_num by the total\n",
    "\n",
    "import torch.nn.functional as F\n",
    "\n",
    "input = torch.tensor([1.0, 3.0, 9.0, 5.0])\n",
    "\n",
    "soft_max_op = F.softmax(input, dim=0)\n",
    "\n",
    "print(soft_max_op)"
   ],
   "metadata": {
    "collapsed": false,
    "ExecuteTime": {
     "end_time": "2023-10-08T22:31:30.793323Z",
     "start_time": "2023-10-08T22:31:30.778976Z"
    }
   },
   "id": "d6e83fcce6a7ba14"
  },
  {
   "cell_type": "code",
   "execution_count": 22,
   "outputs": [
    {
     "name": "stdout",
     "output_type": "stream",
     "text": [
      "tensor([[ 4.2444e-01, -6.9652e-01, -1.7187e+00, -1.0558e-01,  1.2768e+00,\n",
      "          3.8173e-01,  1.1419e+00, -1.2254e+00, -8.3757e-01,  3.8385e-02,\n",
      "          7.8659e-02, -1.5304e+00, -5.8135e-01, -5.1524e-01, -1.6842e+00,\n",
      "          7.0204e-01,  3.3022e-01, -1.3359e-01,  6.4285e-01,  5.5127e-01,\n",
      "          1.6545e+00,  1.6382e-01,  4.8551e-01, -1.6015e+00,  5.7424e-01,\n",
      "         -2.4198e-01, -1.0222e+00, -2.0325e-01,  1.7785e+00,  6.7988e-01,\n",
      "         -2.5440e-01,  1.7606e-01,  2.2031e+00, -5.7443e-01,  2.1714e+00,\n",
      "         -9.9938e-01, -1.6106e+00, -1.2531e+00,  2.9461e-02, -5.2000e-01,\n",
      "         -8.7881e-01, -1.2239e+00,  8.8053e-01, -2.3515e-01,  9.1455e-01,\n",
      "         -5.2171e-01, -5.1176e-01, -4.8715e-01, -1.5512e+00,  1.9252e+00,\n",
      "          3.5578e-01, -3.3600e-01,  9.5213e-01, -1.1835e+00,  7.4993e-01,\n",
      "          1.2109e+00,  1.3810e+00,  7.8436e-01, -2.8335e-01,  4.2173e-01,\n",
      "         -9.4256e-01,  5.1188e-02,  1.6399e+00, -2.1817e-01,  1.4837e+00,\n",
      "         -4.5616e-02,  4.0023e-01, -1.1192e+00,  1.3274e-03, -2.4383e+00,\n",
      "          2.1199e-01, -5.0985e-01,  9.5969e-01, -4.1335e-01,  1.5833e+00,\n",
      "          9.9116e-01, -6.0705e-01,  9.3986e-02, -1.1373e+00, -6.6250e-01,\n",
      "         -2.5440e-02,  1.1355e+00, -2.1969e-01,  3.4886e-01,  1.8565e-02,\n",
      "          7.6726e-01, -6.3520e-01, -3.2250e-01,  4.0036e-01,  8.5510e-02,\n",
      "          1.4912e+00,  1.5659e-01, -2.8876e-01,  2.9333e-01, -2.3955e+00,\n",
      "          7.0030e-01, -2.0240e+00,  6.8075e-01, -7.8137e-01,  2.4993e-01],\n",
      "        [-1.5796e-02,  1.0247e+00,  7.6248e-01, -1.6601e+00,  1.0256e-01,\n",
      "         -9.4229e-01,  9.2239e-01,  1.6504e+00, -1.5045e+00,  7.2577e-01,\n",
      "          8.6620e-01, -1.9725e+00,  1.0217e+00, -8.3993e-01, -7.9413e-01,\n",
      "         -2.8215e-01,  3.5503e+00, -9.2556e-01,  1.2227e+00, -7.3750e-02,\n",
      "          9.5025e-01,  7.6543e-01, -4.0529e-01,  1.2840e+00, -1.3183e+00,\n",
      "          1.2026e-01,  3.2770e-01,  4.4365e-01, -1.0767e+00,  9.6479e-03,\n",
      "         -4.6620e-01, -9.6360e-03, -1.6834e-01, -1.0968e+00, -1.0595e+00,\n",
      "         -6.0791e-01,  2.8730e-01, -1.0108e+00,  2.2369e-01,  3.4950e-01,\n",
      "         -4.4443e-01,  6.2536e-01, -1.6931e-01, -1.5322e+00, -7.9859e-01,\n",
      "          1.1568e+00, -7.2176e-01, -1.3508e+00, -5.5735e-01,  2.9128e-01,\n",
      "         -4.4212e-01,  2.8718e-03, -1.4410e+00, -1.4321e+00,  1.4932e-01,\n",
      "          7.6147e-01,  4.4304e-02, -4.6047e-01,  5.6929e-01, -2.0176e+00,\n",
      "          1.2419e+00, -1.3445e+00, -4.1331e-01,  1.0616e-01, -2.1819e-01,\n",
      "          1.0610e+00, -2.2128e-01,  9.6780e-02, -2.4173e+00,  1.7085e+00,\n",
      "         -2.0292e+00,  2.5202e-01, -7.5549e-01, -2.6783e-01, -1.2167e-01,\n",
      "          8.9848e-01, -1.1837e+00, -8.1311e-01, -1.8585e-01, -1.1098e+00,\n",
      "          1.0028e+00,  2.9476e-01,  8.1737e-01,  2.4115e+00, -5.0277e-01,\n",
      "         -1.4706e+00, -1.8244e-01, -1.8352e-01,  8.3432e-01,  1.4444e-01,\n",
      "         -9.4955e-01,  1.4612e+00,  6.4772e-01,  8.1124e-01, -9.8744e-02,\n",
      "         -9.4470e-02, -9.3853e-01,  4.8821e-01, -7.6969e-01,  9.1389e-01],\n",
      "        [-3.8837e-01, -1.9792e-01,  3.1758e-01,  1.5937e+00,  2.3623e+00,\n",
      "          3.5441e-01,  3.6435e-01, -6.0234e-01, -4.3863e-01,  9.3986e-01,\n",
      "         -1.1326e+00,  4.9177e-01,  5.9781e-02,  1.6509e+00, -7.1554e-01,\n",
      "          1.0602e+00, -8.4279e-01, -4.3815e-01, -9.7768e-02, -9.5420e-01,\n",
      "         -6.4872e-01,  3.9638e-02, -1.4478e+00,  6.6514e-01,  3.6877e-01,\n",
      "         -2.3718e-01, -1.2245e+00,  1.4756e-01,  5.8245e-01, -2.1270e-01,\n",
      "          4.6231e-01,  2.3895e-01, -4.3910e-01,  2.5725e-01,  2.8890e-01,\n",
      "          4.8931e-01, -8.3554e-02,  4.6631e-01, -1.0418e+00, -3.1641e-01,\n",
      "          1.6491e+00, -1.8812e-01, -1.7326e-01,  7.5369e-01,  2.0589e+00,\n",
      "         -1.0693e-01, -1.1992e-01, -1.0626e+00, -1.7928e-01, -4.0672e-01,\n",
      "          5.8053e-01,  6.4172e-01,  1.0087e+00, -6.5829e-01,  8.1405e-01,\n",
      "         -7.5013e-01, -3.0312e-01,  8.8939e-01, -2.8670e+00,  7.4040e-01,\n",
      "          1.6798e+00,  5.1499e-01,  8.5128e-01, -5.7878e-02, -2.4857e+00,\n",
      "         -8.7988e-01, -5.9670e-01,  1.2686e+00,  7.0786e-01,  1.1107e+00,\n",
      "         -3.3909e-01,  1.5284e+00,  2.1395e-01,  2.4128e-01,  4.3288e-01,\n",
      "         -9.0789e-02,  4.3506e-03, -1.2786e+00, -3.4785e-01, -5.9707e-01,\n",
      "          3.1217e-01, -2.6257e+00, -6.3673e-01,  9.4802e-01, -5.8682e-01,\n",
      "          3.9614e-01,  5.3743e-01, -1.2264e-01,  2.2067e+00, -1.3967e+00,\n",
      "          7.6408e-01, -6.0718e-01,  1.5114e+00,  2.1404e-01, -2.3602e-01,\n",
      "          1.2113e+00, -1.0165e+00, -1.7314e-01, -1.6812e-01,  2.0686e-01],\n",
      "        [ 6.2108e-01,  4.1292e-01,  2.5761e-01, -1.2451e+00, -6.5104e-01,\n",
      "         -1.5102e+00, -1.4285e+00, -4.9784e-03, -4.5477e-01,  4.8247e-01,\n",
      "          5.7293e-01, -1.7696e-01,  3.6332e-01,  2.4846e-01, -2.8508e-01,\n",
      "         -4.3202e-01,  3.4522e-01,  1.7225e-01,  1.7023e-01,  9.6662e-01,\n",
      "          1.3703e-01,  4.9851e-01,  8.5143e-01,  1.6531e+00,  3.5466e-01,\n",
      "          4.9027e-01,  2.4840e+00, -1.1814e+00, -3.3148e-01,  1.7852e-01,\n",
      "          4.8889e-01, -1.1852e+00, -1.2072e+00,  1.5549e+00, -4.6404e-01,\n",
      "         -9.2949e-01, -3.7470e-01,  6.1852e-01,  2.2512e+00,  7.2075e-01,\n",
      "         -5.2971e-01, -1.6693e+00,  1.8871e+00,  1.5403e-01,  2.6527e-01,\n",
      "         -4.0611e-01, -1.0339e+00, -1.5431e+00, -1.6362e+00,  8.3206e-01,\n",
      "         -5.9152e-01,  2.2331e+00, -6.4960e-01, -4.5317e-01,  1.4237e+00,\n",
      "         -5.0984e-01,  1.3834e+00, -1.7974e+00, -3.1450e-01, -5.2183e-01,\n",
      "         -4.2515e-02,  1.0999e+00, -1.2924e+00, -2.1766e-01,  4.6901e-01,\n",
      "         -1.3782e+00,  5.5557e-01,  7.3953e-01, -1.3884e-01, -2.2322e-01,\n",
      "         -9.9667e-01, -1.0241e+00, -5.9364e-01,  9.0210e-01,  5.0094e-01,\n",
      "          2.5397e+00, -1.9118e+00, -7.9121e-01,  4.5914e-01,  8.4639e-02,\n",
      "          1.5792e-01,  1.4544e+00,  5.8606e-02,  6.8825e-01,  6.5086e-01,\n",
      "          2.0147e-01, -6.4062e-01,  8.1660e-01,  1.5773e+00,  2.4352e-02,\n",
      "          7.4474e-01,  9.9352e-01, -3.6287e-01,  8.6862e-01,  1.8105e-01,\n",
      "         -8.7508e-01, -1.0681e+00,  6.7205e-01,  2.8581e-01, -6.6788e-01],\n",
      "        [-7.0464e-01, -3.7641e-01,  1.6998e+00, -1.7899e+00,  1.2764e+00,\n",
      "          2.5222e-01,  1.9132e+00,  9.3387e-01, -2.7923e-01, -2.2704e+00,\n",
      "          1.7807e+00,  1.2360e+00, -7.4717e-01, -1.3428e-01,  2.3002e-01,\n",
      "         -1.0793e+00, -5.9273e-01, -1.5510e-01,  5.2788e-01,  6.5871e-01,\n",
      "          9.3364e-02, -1.3996e-01, -6.8378e-01, -5.4148e-01,  8.5717e-01,\n",
      "         -2.3772e-01, -4.2130e-02,  2.1346e+00,  2.0301e+00,  2.0801e-02,\n",
      "         -1.0072e+00,  5.9656e-01,  2.0895e-01,  2.7928e-01, -1.1235e+00,\n",
      "          1.8679e+00,  3.7430e-01,  1.0801e+00,  6.1951e-01, -5.0518e-01,\n",
      "         -1.2760e+00, -1.1274e-02, -4.5734e-01, -1.8357e+00,  1.3465e+00,\n",
      "          2.3078e+00, -5.3572e-01, -3.0697e-01, -3.8853e-01, -1.2385e+00,\n",
      "          1.1332e+00, -1.5241e-01, -1.2477e+00,  1.1387e+00, -6.9943e-01,\n",
      "         -6.1046e-01, -1.2251e+00,  1.4061e+00,  6.7743e-01, -9.7269e-01,\n",
      "          8.4029e-01,  1.6881e-01,  6.0513e-01,  1.1576e+00,  1.6745e-01,\n",
      "          9.5934e-01,  1.7398e+00, -8.4055e-01, -1.2585e+00, -6.5762e-01,\n",
      "         -3.3015e-01,  4.3953e-01, -1.7698e+00,  2.4903e-01,  2.7881e+00,\n",
      "         -1.5385e+00,  9.5815e-01, -1.6014e+00,  1.7387e-01, -2.5934e-02,\n",
      "         -1.4993e+00,  5.5298e-01,  2.5507e-01, -8.2656e-01, -1.4734e+00,\n",
      "          7.8967e-01,  1.7590e-01,  3.2214e-01,  9.2046e-01, -5.6502e-01,\n",
      "          7.7647e-01,  1.8701e-03, -7.4363e-01,  7.9515e-01, -9.5197e-01,\n",
      "         -2.9624e-01, -5.0145e-01,  7.9212e-01,  4.4489e-01, -2.4377e-01]],\n",
      "       grad_fn=<EmbeddingBackward0>)\n"
     ]
    }
   ],
   "source": [
    "# Define the size of the vocabulary and the dimension of the embeddings\n",
    "vocab_size = 1000\n",
    "embedding_dim = 100\n",
    "\n",
    "# Create an nn.Embedding layer\n",
    "embedding_layer = nn.Embedding(num_embeddings=vocab_size, embedding_dim=embedding_dim)\n",
    "\n",
    "# Input data (categorical indices)\n",
    "input_data = torch.tensor([1, 5, 3, 2, 7])\n",
    "\n",
    "# Pass the input data through the embedding layer to get embeddings\n",
    "embeddings = embedding_layer(input_data)\n",
    "\n",
    "print(embeddings)"
   ],
   "metadata": {
    "collapsed": false,
    "ExecuteTime": {
     "end_time": "2023-10-08T22:41:40.436571Z",
     "start_time": "2023-10-08T22:41:40.421004Z"
    }
   },
   "id": "d83fa9b941fac7bc"
  },
  {
   "cell_type": "code",
   "execution_count": 23,
   "outputs": [
    {
     "name": "stdout",
     "output_type": "stream",
     "text": [
      "Tensor A (batched):\n",
      " tensor([[[0.3515, 0.1936],\n",
      "         [0.7308, 0.3949]],\n",
      "\n",
      "        [[0.4989, 0.3970],\n",
      "         [0.4264, 0.8829]],\n",
      "\n",
      "        [[0.1744, 0.2855],\n",
      "         [0.7300, 0.4070]]])\n",
      "\n",
      "Tensor B:\n",
      " tensor([[0.0644, 0.9779],\n",
      "        [0.3493, 0.2906]])\n",
      "\n",
      "Result (batched matrix multiplication):\n",
      " tensor([[[0.0903, 0.4000],\n",
      "         [0.1850, 0.8293]],\n",
      "\n",
      "        [[0.1708, 0.6032],\n",
      "         [0.3358, 0.6735]],\n",
      "\n",
      "        [[0.1109, 0.2535],\n",
      "         [0.1892, 0.8321]]])\n"
     ]
    }
   ],
   "source": [
    "# Create two 3-dimensional tensors (batch_size=3, rows=2, columns=2)\n",
    "batch_size = 3\n",
    "A = torch.rand(batch_size, 2, 2)  # Random 2x2 matrices, batched\n",
    "B = torch.rand(2, 2)  # Random 2x2 matrix\n",
    "\n",
    "# Perform batched matrix multiplication using torch.matmul\n",
    "result = torch.matmul(A, B)\n",
    "\n",
    "# Print the original tensors and the result\n",
    "print(\"Tensor A (batched):\\n\", A)\n",
    "print(\"\\nTensor B:\\n\", B)\n",
    "print(\"\\nResult (batched matrix multiplication):\\n\", result)"
   ],
   "metadata": {
    "collapsed": false,
    "ExecuteTime": {
     "end_time": "2023-10-08T22:50:19.852606Z",
     "start_time": "2023-10-08T22:50:19.827414Z"
    }
   },
   "id": "43de186b762ad62f"
  },
  {
   "cell_type": "code",
   "execution_count": 28,
   "outputs": [
    {
     "name": "stdout",
     "output_type": "stream",
     "text": [
      "torch.float32 torch.float32\n",
      "tensor([[0., 0., 0.],\n",
      "        [0., 0., 0.],\n",
      "        [0., 0., 0.]])\n"
     ]
    }
   ],
   "source": [
    "int_64 = torch.randint(1, (3, 2)).float()\n",
    "\n",
    "float_32 = torch.rand(2, 3)\n",
    "\n",
    "print(int_64.dtype, float_32.dtype)\n",
    "\n",
    "res = torch.matmul(int_64, float_32)\n",
    "\n",
    "print(res)"
   ],
   "metadata": {
    "collapsed": false,
    "ExecuteTime": {
     "end_time": "2023-10-08T22:55:14.888739Z",
     "start_time": "2023-10-08T22:55:14.879389Z"
    }
   },
   "id": "50c252ada998a839"
  },
  {
   "cell_type": "code",
   "execution_count": 3,
   "outputs": [
    {
     "name": "stdout",
     "output_type": "stream",
     "text": [
      "torch.Size([2, 3, 5])\n",
      "torch.Size([2, 3, 5])\n"
     ]
    }
   ],
   "source": [
    "a = torch.rand(2, 3, 5)\n",
    "print(a.shape)\n",
    "x, y, z = a.shape\n",
    "a = a.view(x, y, z)\n",
    "\n",
    "print(a.shape)"
   ],
   "metadata": {
    "collapsed": false,
    "ExecuteTime": {
     "end_time": "2023-10-11T23:42:48.946385Z",
     "start_time": "2023-10-11T23:42:48.939331Z"
    }
   },
   "id": "bf3759dbdc908ee0"
  },
  {
   "cell_type": "code",
   "execution_count": null,
   "outputs": [],
   "source": [],
   "metadata": {
    "collapsed": false
   },
   "id": "2de578aeb27545ba"
  }
 ],
 "metadata": {
  "kernelspec": {
   "name": "llmvm",
   "language": "python",
   "display_name": "Vyb-GPT"
  },
  "language_info": {
   "codemirror_mode": {
    "name": "ipython",
    "version": 2
   },
   "file_extension": ".py",
   "mimetype": "text/x-python",
   "name": "python",
   "nbconvert_exporter": "python",
   "pygments_lexer": "ipython2",
   "version": "2.7.6"
  }
 },
 "nbformat": 4,
 "nbformat_minor": 5
}
