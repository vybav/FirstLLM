{
 "cells": [
  {
   "cell_type": "code",
   "execution_count": 1,
   "id": "b49f212387b45e28",
   "metadata": {
    "ExecuteTime": {
     "end_time": "2023-11-02T03:40:17.962116Z",
     "start_time": "2023-11-02T03:40:16.016984Z"
    },
    "collapsed": false,
    "jupyter": {
     "outputs_hidden": false
    }
   },
   "outputs": [],
   "source": [
    "import torch\n",
    "import torch.nn as nn\n",
    "from torch.nn import functional as F\n",
    "\n",
    "block_size = 8\n",
    "batch_size = 4\n",
    "learning_rate = 3e-4\n",
    "max_iters = 10000\n",
    "eval_iters = 250"
   ]
  },
  {
   "cell_type": "code",
   "execution_count": 2,
   "id": "6c181973f0f0cd7e",
   "metadata": {
    "ExecuteTime": {
     "end_time": "2023-10-17T23:51:41.886397Z",
     "start_time": "2023-10-17T23:51:41.881740Z"
    },
    "collapsed": false,
    "jupyter": {
     "outputs_hidden": false
    }
   },
   "outputs": [
    {
     "name": "stdout",
     "output_type": "stream",
     "text": [
      "mps\n"
     ]
    }
   ],
   "source": [
    "device = 'mps' if torch.backends.mps.is_available() else 'CPU'\n",
    "print(device)"
   ]
  },
  {
   "cell_type": "code",
   "execution_count": 3,
   "id": "c18d9ca8015af3d3",
   "metadata": {
    "ExecuteTime": {
     "end_time": "2023-10-17T23:51:43.043058Z",
     "start_time": "2023-10-17T23:51:43.037377Z"
    },
    "collapsed": false,
    "jupyter": {
     "outputs_hidden": false
    }
   },
   "outputs": [
    {
     "name": "stdout",
     "output_type": "stream",
     "text": [
      "﻿  DOROTHY AND THE WIZARD IN OZ\n",
      "\n",
      "  BY\n",
      "\n",
      "  L. FRANK BAUM\n",
      "\n",
      "  AUTHOR OF THE WIZARD OF OZ, THE LAND OF OZ, OZMA OF OZ, ETC.\n",
      "\n",
      "  ILLUSTRATED BY JOHN R. NEILL\n",
      "\n",
      "  BOOKS OF WONDER WILLIAM MORROW & CO., INC. NEW\n"
     ]
    }
   ],
   "source": [
    "with open('wizard_of_oz.txt', 'r', encoding='utf-8') as f:\n",
    "    text = f.read()\n",
    "\n",
    "print(text[:200])"
   ]
  },
  {
   "cell_type": "code",
   "execution_count": 4,
   "id": "9c7b93ad2ed713f",
   "metadata": {
    "ExecuteTime": {
     "end_time": "2023-10-17T23:51:43.914099Z",
     "start_time": "2023-10-17T23:51:43.906825Z"
    },
    "collapsed": false,
    "jupyter": {
     "outputs_hidden": false
    }
   },
   "outputs": [
    {
     "name": "stdout",
     "output_type": "stream",
     "text": [
      "['\\n', ' ', '!', '\"', '&', \"'\", '(', ')', '*', ',', '-', '.', '0', '1', '2', '3', '4', '5', '6', '7', '8', '9', ':', ';', '?', 'A', 'B', 'C', 'D', 'E', 'F', 'G', 'H', 'I', 'J', 'K', 'L', 'M', 'N', 'O', 'P', 'Q', 'R', 'S', 'T', 'U', 'V', 'W', 'X', 'Y', 'Z', '[', ']', '_', 'a', 'b', 'c', 'd', 'e', 'f', 'g', 'h', 'i', 'j', 'k', 'l', 'm', 'n', 'o', 'p', 'q', 'r', 's', 't', 'u', 'v', 'w', 'x', 'y', 'z', '\\ufeff']\n",
      "81\n"
     ]
    }
   ],
   "source": [
    "chars = sorted(set(text))\n",
    "print(chars)\n",
    "vocab_size = len(chars)\n",
    "print(vocab_size)"
   ]
  },
  {
   "cell_type": "code",
   "execution_count": 5,
   "id": "c1ff8cdea2f7e080",
   "metadata": {
    "ExecuteTime": {
     "end_time": "2023-10-17T23:51:44.648788Z",
     "start_time": "2023-10-17T23:51:44.641397Z"
    },
    "collapsed": false,
    "jupyter": {
     "outputs_hidden": false
    }
   },
   "outputs": [
    {
     "name": "stdout",
     "output_type": "stream",
     "text": [
      "{'\\n': 0, ' ': 1, '!': 2, '\"': 3, '&': 4, \"'\": 5, '(': 6, ')': 7, '*': 8, ',': 9, '-': 10, '.': 11, '0': 12, '1': 13, '2': 14, '3': 15, '4': 16, '5': 17, '6': 18, '7': 19, '8': 20, '9': 21, ':': 22, ';': 23, '?': 24, 'A': 25, 'B': 26, 'C': 27, 'D': 28, 'E': 29, 'F': 30, 'G': 31, 'H': 32, 'I': 33, 'J': 34, 'K': 35, 'L': 36, 'M': 37, 'N': 38, 'O': 39, 'P': 40, 'Q': 41, 'R': 42, 'S': 43, 'T': 44, 'U': 45, 'V': 46, 'W': 47, 'X': 48, 'Y': 49, 'Z': 50, '[': 51, ']': 52, '_': 53, 'a': 54, 'b': 55, 'c': 56, 'd': 57, 'e': 58, 'f': 59, 'g': 60, 'h': 61, 'i': 62, 'j': 63, 'k': 64, 'l': 65, 'm': 66, 'n': 67, 'o': 68, 'p': 69, 'q': 70, 'r': 71, 's': 72, 't': 73, 'u': 74, 'v': 75, 'w': 76, 'x': 77, 'y': 78, 'z': 79, '\\ufeff': 80}\n"
     ]
    }
   ],
   "source": [
    "string_to_int = { ch:i for i,ch in enumerate(chars)}\n",
    "print(string_to_int)"
   ]
  },
  {
   "cell_type": "code",
   "execution_count": 6,
   "id": "84163e2a31214b6d",
   "metadata": {
    "ExecuteTime": {
     "end_time": "2023-10-17T23:51:44.935700Z",
     "start_time": "2023-10-17T23:51:44.928686Z"
    },
    "collapsed": false,
    "jupyter": {
     "outputs_hidden": false
    }
   },
   "outputs": [
    {
     "name": "stdout",
     "output_type": "stream",
     "text": [
      "{0: '\\n', 1: ' ', 2: '!', 3: '\"', 4: '&', 5: \"'\", 6: '(', 7: ')', 8: '*', 9: ',', 10: '-', 11: '.', 12: '0', 13: '1', 14: '2', 15: '3', 16: '4', 17: '5', 18: '6', 19: '7', 20: '8', 21: '9', 22: ':', 23: ';', 24: '?', 25: 'A', 26: 'B', 27: 'C', 28: 'D', 29: 'E', 30: 'F', 31: 'G', 32: 'H', 33: 'I', 34: 'J', 35: 'K', 36: 'L', 37: 'M', 38: 'N', 39: 'O', 40: 'P', 41: 'Q', 42: 'R', 43: 'S', 44: 'T', 45: 'U', 46: 'V', 47: 'W', 48: 'X', 49: 'Y', 50: 'Z', 51: '[', 52: ']', 53: '_', 54: 'a', 55: 'b', 56: 'c', 57: 'd', 58: 'e', 59: 'f', 60: 'g', 61: 'h', 62: 'i', 63: 'j', 64: 'k', 65: 'l', 66: 'm', 67: 'n', 68: 'o', 69: 'p', 70: 'q', 71: 'r', 72: 's', 73: 't', 74: 'u', 75: 'v', 76: 'w', 77: 'x', 78: 'y', 79: 'z', 80: '\\ufeff'}\n"
     ]
    }
   ],
   "source": [
    "int_to_string = {i:ch for i, ch in enumerate(chars)}\n",
    "print(int_to_string)"
   ]
  },
  {
   "cell_type": "code",
   "execution_count": 7,
   "id": "b0ba3c384e1bb410",
   "metadata": {
    "ExecuteTime": {
     "end_time": "2023-10-17T23:51:45.268703Z",
     "start_time": "2023-10-17T23:51:45.263341Z"
    },
    "collapsed": false,
    "jupyter": {
     "outputs_hidden": false
    }
   },
   "outputs": [],
   "source": [
    "encode = lambda s: [string_to_int[c] for c in s]\n",
    "decode = lambda l: ''.join([int_to_string[i] for i in l])"
   ]
  },
  {
   "cell_type": "code",
   "execution_count": 8,
   "id": "cff42f14f6a780ca",
   "metadata": {
    "ExecuteTime": {
     "end_time": "2023-10-17T23:51:46.385922Z",
     "start_time": "2023-10-17T23:51:46.379350Z"
    },
    "collapsed": false,
    "jupyter": {
     "outputs_hidden": false
    }
   },
   "outputs": [],
   "source": [
    "encoded_hello = encode('hello')\n",
    "decoded_hello = decode(encoded_hello)"
   ]
  },
  {
   "cell_type": "code",
   "execution_count": 9,
   "id": "1f5eabe41d13c3a1",
   "metadata": {
    "ExecuteTime": {
     "end_time": "2023-10-17T23:51:46.725288Z",
     "start_time": "2023-10-17T23:51:46.718461Z"
    },
    "collapsed": false,
    "jupyter": {
     "outputs_hidden": false
    }
   },
   "outputs": [
    {
     "name": "stdout",
     "output_type": "stream",
     "text": [
      "hello\n"
     ]
    }
   ],
   "source": [
    "print(decoded_hello)"
   ]
  },
  {
   "cell_type": "code",
   "execution_count": 10,
   "id": "20e6286381f14dcd",
   "metadata": {
    "ExecuteTime": {
     "end_time": "2023-10-17T23:51:47.125544Z",
     "start_time": "2023-10-17T23:51:47.123743Z"
    },
    "collapsed": false,
    "jupyter": {
     "outputs_hidden": false
    }
   },
   "outputs": [],
   "source": [
    "data_of_oz = torch.tensor(encode(text), dtype=torch.long)"
   ]
  },
  {
   "cell_type": "code",
   "execution_count": 11,
   "id": "650d1b02c74e40e6",
   "metadata": {
    "ExecuteTime": {
     "end_time": "2023-10-17T23:51:47.514179Z",
     "start_time": "2023-10-17T23:51:47.508436Z"
    },
    "collapsed": false,
    "jupyter": {
     "outputs_hidden": false
    }
   },
   "outputs": [
    {
     "name": "stdout",
     "output_type": "stream",
     "text": [
      "tensor([80,  1,  1, 28, 39, 42, 39, 44, 32, 49,  1, 25, 38, 28,  1, 44, 32, 29,\n",
      "         1, 47, 33, 50, 25, 42, 28,  1, 33, 38,  1, 39, 50,  0,  0,  1,  1, 26,\n",
      "        49,  0,  0,  1,  1, 36, 11,  1, 30, 42, 25, 38, 35,  1, 26, 25, 45, 37,\n",
      "         0,  0,  1,  1, 25, 45, 44, 32, 39, 42,  1, 39, 30,  1, 44, 32, 29,  1,\n",
      "        47, 33, 50, 25, 42, 28,  1, 39, 30,  1, 39, 50,  9,  1, 44, 32, 29,  1,\n",
      "        36, 25, 38, 28,  1, 39, 30,  1, 39, 50])\n"
     ]
    }
   ],
   "source": [
    "print(data_of_oz[:100])"
   ]
  },
  {
   "cell_type": "code",
   "execution_count": 12,
   "id": "a0468671f8879036",
   "metadata": {
    "ExecuteTime": {
     "end_time": "2023-10-17T23:51:49.195575Z",
     "start_time": "2023-10-17T23:51:49.158937Z"
    },
    "collapsed": false,
    "jupyter": {
     "outputs_hidden": false
    }
   },
   "outputs": [
    {
     "name": "stdout",
     "output_type": "stream",
     "text": [
      "inputs:\n",
      "tensor([[24,  3,  0,  0,  3, 29, 75, 58],\n",
      "        [73, 74, 71, 67, 58, 57,  1, 73],\n",
      "        [73, 61,  1, 73, 61, 58, 66, 11],\n",
      "        [67, 58, 57,  1, 62, 67, 73, 68]], device='mps:0')\n",
      "targets:\n",
      "tensor([[ 3,  0,  0,  3, 29, 75, 58, 71],\n",
      "        [74, 71, 67, 58, 57,  1, 73, 61],\n",
      "        [61,  1, 73, 61, 58, 66, 11,  0],\n",
      "        [58, 57,  1, 62, 67, 73, 68,  1]], device='mps:0')\n"
     ]
    }
   ],
   "source": [
    "n = int(0.8*len(data_of_oz))\n",
    "train_data = data_of_oz[:n]\n",
    "val_data = data_of_oz[n:]\n",
    "\n",
    "def get_batch(split):\n",
    "    data = train_data if split == 'train' else val_data\n",
    "    ix = torch.randint(len(data) - block_size, (batch_size,))\n",
    "    x = torch.stack([data[i:i+block_size] for i in ix])\n",
    "    y = torch.stack([data[i+1:i+block_size+1] for i in ix])\n",
    "    x, y = x.to(device), y.to(device)\n",
    "    return x, y\n",
    "\n",
    "x, y = get_batch('train')\n",
    "print('inputs:')\n",
    "# print(x.shape)\n",
    "print(x)\n",
    "print('targets:')\n",
    "print(y)"
   ]
  },
  {
   "cell_type": "code",
   "execution_count": 13,
   "id": "29cccb9621447abc",
   "metadata": {
    "ExecuteTime": {
     "end_time": "2023-10-17T23:51:50.828046Z",
     "start_time": "2023-10-17T23:51:50.821202Z"
    },
    "collapsed": false,
    "jupyter": {
     "outputs_hidden": false
    }
   },
   "outputs": [
    {
     "name": "stdout",
     "output_type": "stream",
     "text": [
      "When input is, tensor([80]), target is, 1\n",
      "When input is, tensor([80,  1]), target is, 1\n",
      "When input is, tensor([80,  1,  1]), target is, 28\n",
      "When input is, tensor([80,  1,  1, 28]), target is, 39\n",
      "When input is, tensor([80,  1,  1, 28, 39]), target is, 42\n",
      "When input is, tensor([80,  1,  1, 28, 39, 42]), target is, 39\n",
      "When input is, tensor([80,  1,  1, 28, 39, 42, 39]), target is, 44\n",
      "When input is, tensor([80,  1,  1, 28, 39, 42, 39, 44]), target is, 32\n"
     ]
    }
   ],
   "source": [
    "x = train_data[:block_size]\n",
    "y = train_data[1:block_size+1]\n",
    "\n",
    "\n",
    "for bs in range(block_size):\n",
    "    context = x[:bs+1]\n",
    "    target = y[bs]\n",
    "    print(f'When input is, {context}, target is, {target}')"
   ]
  },
  {
   "cell_type": "code",
   "execution_count": 20,
   "id": "92fd4151f9147463",
   "metadata": {
    "ExecuteTime": {
     "end_time": "2023-10-12T00:22:43.175304Z",
     "start_time": "2023-10-12T00:22:43.173296Z"
    },
    "collapsed": false,
    "jupyter": {
     "outputs_hidden": false
    }
   },
   "outputs": [
    {
     "ename": "TypeError",
     "evalue": "BigramLanguageModel.__init__() takes 1 positional argument but 2 were given",
     "output_type": "error",
     "traceback": [
      "\u001b[0;31m---------------------------------------------------------------------------\u001b[0m",
      "\u001b[0;31mTypeError\u001b[0m                                 Traceback (most recent call last)",
      "Cell \u001b[0;32mIn[20], line 40\u001b[0m\n\u001b[1;32m     35\u001b[0m             index \u001b[38;5;241m=\u001b[39m torch\u001b[38;5;241m.\u001b[39mcat((index, index_next), dim\u001b[38;5;241m=\u001b[39m\u001b[38;5;241m1\u001b[39m) \u001b[38;5;66;03m#(B, T+1)\u001b[39;00m\n\u001b[1;32m     36\u001b[0m         \u001b[38;5;28;01mreturn\u001b[39;00m index\n\u001b[0;32m---> 40\u001b[0m model \u001b[38;5;241m=\u001b[39m \u001b[43mBigramLanguageModel\u001b[49m\u001b[43m(\u001b[49m\u001b[43mvocab_size\u001b[49m\u001b[43m)\u001b[49m\n\u001b[1;32m     41\u001b[0m m \u001b[38;5;241m=\u001b[39m model\u001b[38;5;241m.\u001b[39mto(device)\n\u001b[1;32m     43\u001b[0m context \u001b[38;5;241m=\u001b[39m torch\u001b[38;5;241m.\u001b[39mzeros((\u001b[38;5;241m1\u001b[39m,\u001b[38;5;241m1\u001b[39m), dtype\u001b[38;5;241m=\u001b[39mtorch\u001b[38;5;241m.\u001b[39mlong, device\u001b[38;5;241m=\u001b[39mdevice)\n",
      "File \u001b[0;32m~/opt/anaconda3/envs/FirstLLM/lib/python3.11/site-packages/torch/nn/modules/module.py:464\u001b[0m, in \u001b[0;36mModule.__init__\u001b[0;34m(self, *args, **kwargs)\u001b[0m\n\u001b[1;32m    460\u001b[0m     \u001b[38;5;28;01mraise\u001b[39;00m \u001b[38;5;167;01mTypeError\u001b[39;00m(\u001b[38;5;124m\"\u001b[39m\u001b[38;5;132;01m{}\u001b[39;00m\u001b[38;5;124m.__init__() got an unexpected keyword argument \u001b[39m\u001b[38;5;124m'\u001b[39m\u001b[38;5;132;01m{}\u001b[39;00m\u001b[38;5;124m'\u001b[39m\u001b[38;5;124m\"\u001b[39m\n\u001b[1;32m    461\u001b[0m                     \u001b[38;5;124m\"\u001b[39m\u001b[38;5;124m\"\u001b[39m\u001b[38;5;241m.\u001b[39mformat(\u001b[38;5;28mtype\u001b[39m(\u001b[38;5;28mself\u001b[39m)\u001b[38;5;241m.\u001b[39m\u001b[38;5;18m__name__\u001b[39m, \u001b[38;5;28mnext\u001b[39m(\u001b[38;5;28miter\u001b[39m(kwargs))))\n\u001b[1;32m    463\u001b[0m \u001b[38;5;28;01mif\u001b[39;00m \u001b[38;5;28mself\u001b[39m\u001b[38;5;241m.\u001b[39mcall_super_init \u001b[38;5;129;01mis\u001b[39;00m \u001b[38;5;28;01mFalse\u001b[39;00m \u001b[38;5;129;01mand\u001b[39;00m \u001b[38;5;28mbool\u001b[39m(args):\n\u001b[0;32m--> 464\u001b[0m     \u001b[38;5;28;01mraise\u001b[39;00m \u001b[38;5;167;01mTypeError\u001b[39;00m(\u001b[38;5;124mf\u001b[39m\u001b[38;5;124m\"\u001b[39m\u001b[38;5;132;01m{\u001b[39;00m\u001b[38;5;28mtype\u001b[39m(\u001b[38;5;28mself\u001b[39m)\u001b[38;5;241m.\u001b[39m\u001b[38;5;18m__name__\u001b[39m\u001b[38;5;132;01m}\u001b[39;00m\u001b[38;5;124m.__init__() takes 1 positional argument but \u001b[39m\u001b[38;5;132;01m{\u001b[39;00m\u001b[38;5;28mlen\u001b[39m(args)\u001b[38;5;250m \u001b[39m\u001b[38;5;241m+\u001b[39m\u001b[38;5;250m \u001b[39m\u001b[38;5;241m1\u001b[39m\u001b[38;5;132;01m}\u001b[39;00m\u001b[38;5;124m were\u001b[39m\u001b[38;5;124m\"\u001b[39m\n\u001b[1;32m    465\u001b[0m                     \u001b[38;5;124m\"\u001b[39m\u001b[38;5;124m given\u001b[39m\u001b[38;5;124m\"\u001b[39m)\n\u001b[1;32m    467\u001b[0m \u001b[38;5;250m\u001b[39m\u001b[38;5;124;03m\"\"\"\u001b[39;00m\n\u001b[1;32m    468\u001b[0m \u001b[38;5;124;03mCalls super().__setattr__('a', a) instead of the typical self.a = a\u001b[39;00m\n\u001b[1;32m    469\u001b[0m \u001b[38;5;124;03mto avoid Module.__setattr__ overhead. Module's __setattr__ has special\u001b[39;00m\n\u001b[1;32m    470\u001b[0m \u001b[38;5;124;03mhandling for parameters, submodules, and buffers but simply calls into\u001b[39;00m\n\u001b[1;32m    471\u001b[0m \u001b[38;5;124;03msuper().__setattr__ for all other attributes.\u001b[39;00m\n\u001b[1;32m    472\u001b[0m \u001b[38;5;124;03m\"\"\"\u001b[39;00m\n\u001b[1;32m    473\u001b[0m \u001b[38;5;28msuper\u001b[39m()\u001b[38;5;241m.\u001b[39m\u001b[38;5;21m__setattr__\u001b[39m(\u001b[38;5;124m'\u001b[39m\u001b[38;5;124mtraining\u001b[39m\u001b[38;5;124m'\u001b[39m, \u001b[38;5;28;01mTrue\u001b[39;00m)\n",
      "\u001b[0;31mTypeError\u001b[0m: BigramLanguageModel.__init__() takes 1 positional argument but 2 were given"
     ]
    }
   ],
   "source": [
    "class BigramLanguageModel(nn.Module):\n",
    "    \n",
    "    def __int__(self, vocab_size):\n",
    "        super().__init__()\n",
    "        self.token_embedding_table = nn.Embedding(vocab_size, vocab_size)\n",
    "        \n",
    "    def forward(self, index, targets=None):\n",
    "        logits = self.token_embedding_table(index)\n",
    "        if targets is None:\n",
    "            loss = None\n",
    "        else:\n",
    "            B, T, C = logits.shape #Batch/Block, Time(vocab), Channels\n",
    "            logits = logits.view(B*T, C)\n",
    "            targets = targets.view(B*T)\n",
    "            loss = F.cross_entropy(logits, targets)\n",
    "        return logits, loss\n",
    "    \n",
    "    def generate(self, index, max_new_tokens):\n",
    "        \"\"\"\n",
    "        Index is (B, T) array of indices in current context\n",
    "        :param index: \n",
    "        :param max_new_tokens: \n",
    "        :return: \n",
    "        \"\"\"\n",
    "        for _ in range(max_new_tokens):\n",
    "            #     get the predictions\n",
    "            logits, loss = self.forward(index)\n",
    "            #     focus only on the last step\n",
    "            logits = logits[:, -1, :] #becomes (B, C)\n",
    "            # apply softmax to get probabilities\n",
    "            probs = F.softmax(logits, dim=-1) #(B, C)\n",
    "            # sample from next distribution\n",
    "            index_next  = torch.multinomial(probs, num_samples=1) #(B, 1)\n",
    "            # append sampled index to the running sequence\n",
    "            index = torch.cat((index, index_next), dim=1) #(B, T+1)\n",
    "        return index\n",
    "            \n",
    "            \n",
    "            \n",
    "model = BigramLanguageModel(vocab_size)\n",
    "m = model.to(device)\n",
    "\n",
    "context = torch.zeros((1,1), dtype=torch.long, device=device)\n",
    "generated_chars = decode(m.generate(context, max_new_tokens=500)[0].tolist())\n",
    "print(generated_chars)\n",
    "    "
   ]
  },
  {
   "cell_type": "code",
   "execution_count": 14,
   "id": "fb0cc1f49bb8b75e",
   "metadata": {
    "ExecuteTime": {
     "end_time": "2023-10-17T23:52:02.211208Z",
     "start_time": "2023-10-17T23:51:54.048179Z"
    },
    "collapsed": false,
    "jupyter": {
     "outputs_hidden": false
    }
   },
   "outputs": [
    {
     "name": "stdout",
     "output_type": "stream",
     "text": [
      "\n",
      "QDd_*iS643PK,qu?I:eTh!dlGtO&x34u:I*ccDT66ZwdN.mzkY&FRyVgUFD1﻿0jiwM2cyP]kgNIS1!WbxkDNHEjHLZLgVo?W.q9'g&fgBWij-Z8sT.5\n",
      ",3RiPdDN43u,YON-0XCYZ.Ci9﻿Os):l3Nvr(azVde.rEjC3zNr(3zkmFBgviHn2p94GQk;Mw\n",
      "'wurd;JoRnHy!m\"gT)]LbOnn3sA:h﻿&!(rYbXtCk)FLUArIBi*_a'5NJ34oP(EVgUewA'gFj8﻿SW?Rj&Q6Lnde1H*wo'd;WNAg\"?ZB?cXDYYEw\n",
      "RJ25,4[7nCO6b*CB\"6r;(hz7nzNU﻿HNUHfzNW?6utI!dHgCsVa)gUZ3J(uLui0jj﻿Onb(4IoR_qJX1e6KoRmqb46c;NLj﻿gDAAS5S-'(E\"ZGmVcFC-iZJMTTbxK!y0oCDy(ZG8Lcj(f,aUwAvDQDFPY'sNZ﻿zNka;NvM]ud,q:Ljz;&!iK]?I9﻿98[q.9﻿fQDj cNB)f\n"
     ]
    }
   ],
   "source": [
    "class BigramLanguageModel(nn.Module):\n",
    "    def __init__(self, vocab_size):\n",
    "        super().__init__()\n",
    "        self.token_embedding_table = nn.Embedding(vocab_size, vocab_size)\n",
    "        \n",
    "    def forward(self, index, targets=None):\n",
    "        logits = self.token_embedding_table(index)\n",
    "        \n",
    "        \n",
    "        if targets is None:\n",
    "            loss = None\n",
    "        else:\n",
    "            B, T, C = logits.shape\n",
    "            logits = logits.view(B*T, C)\n",
    "            targets = targets.view(B*T)\n",
    "            loss = F.cross_entropy(logits, targets)\n",
    "        \n",
    "        return logits, loss\n",
    "    \n",
    "    def generate(self, index, max_new_tokens):\n",
    "        # index is (B, T) array of indices in the current context\n",
    "        for _ in range(max_new_tokens):\n",
    "            # get the predictions\n",
    "            logits, loss = self.forward(index)\n",
    "            # focus only on the last time step\n",
    "            logits = logits[:, -1, :] # becomes (B, C)\n",
    "            # apply softmax to get probabilities\n",
    "            probs = F.softmax(logits, dim=-1) # (B, C)\n",
    "            # sample from the distribution\n",
    "            index_next = torch.multinomial(probs, num_samples=1) # (B, 1)\n",
    "            # append sampled index to the running sequence\n",
    "            index = torch.cat((index, index_next), dim=1) # (B, T+1)\n",
    "        return index\n",
    "\n",
    "model = BigramLanguageModel(vocab_size)\n",
    "m = model.to(device)\n",
    "\n",
    "context = torch.zeros((1,1), dtype=torch.long, device=device)\n",
    "generated_chars = decode(m.generate(context, max_new_tokens=500)[0].tolist())\n",
    "print(generated_chars)"
   ]
  },
  {
   "cell_type": "code",
   "execution_count": 17,
   "id": "bf35c38109029d56",
   "metadata": {
    "ExecuteTime": {
     "end_time": "2023-10-17T23:53:30.578908Z",
     "start_time": "2023-10-17T23:53:30.569093Z"
    },
    "collapsed": false,
    "jupyter": {
     "outputs_hidden": false
    }
   },
   "outputs": [],
   "source": [
    "@torch.no_grad()\n",
    "def estimate_loss():\n",
    "    out = {}\n",
    "    model.eval()\n",
    "    for split in ['train', 'val']:\n",
    "        losses = torch.zeros(eval_iters)\n",
    "        for k in range(eval_iters):\n",
    "            X, Y = get_batch(split)\n",
    "            logits, loss = model(X, Y)\n",
    "            losses[k] = loss.item()\n",
    "        out[split] = losses.mean()\n",
    "    model.train()\n",
    "    return out"
   ]
  },
  {
   "cell_type": "code",
   "execution_count": 18,
   "id": "ff5642085ffb4ef1",
   "metadata": {
    "ExecuteTime": {
     "end_time": "2023-10-17T23:54:38.273537Z",
     "start_time": "2023-10-17T23:53:31.149025Z"
    },
    "collapsed": false,
    "jupyter": {
     "outputs_hidden": false
    }
   },
   "outputs": [
    {
     "name": "stdout",
     "output_type": "stream",
     "text": [
      "step: 0, train loss: 4.916, val loss: 4.925\n",
      "step: 250, train loss: 4.877, val loss: 4.848\n",
      "step: 500, train loss: 4.794, val loss: 4.801\n",
      "step: 750, train loss: 4.718, val loss: 4.727\n",
      "step: 1000, train loss: 4.676, val loss: 4.677\n",
      "step: 1250, train loss: 4.615, val loss: 4.606\n",
      "step: 1500, train loss: 4.556, val loss: 4.538\n",
      "step: 1750, train loss: 4.481, val loss: 4.479\n",
      "step: 2000, train loss: 4.435, val loss: 4.448\n",
      "step: 2250, train loss: 4.394, val loss: 4.372\n",
      "step: 2500, train loss: 4.318, val loss: 4.318\n",
      "step: 2750, train loss: 4.256, val loss: 4.266\n",
      "step: 3000, train loss: 4.219, val loss: 4.206\n",
      "step: 3250, train loss: 4.162, val loss: 4.151\n",
      "step: 3500, train loss: 4.128, val loss: 4.107\n",
      "step: 3750, train loss: 4.058, val loss: 4.057\n",
      "step: 4000, train loss: 3.999, val loss: 4.020\n",
      "step: 4250, train loss: 3.953, val loss: 3.960\n",
      "step: 4500, train loss: 3.904, val loss: 3.922\n",
      "step: 4750, train loss: 3.885, val loss: 3.870\n",
      "step: 5000, train loss: 3.830, val loss: 3.815\n",
      "step: 5250, train loss: 3.774, val loss: 3.788\n",
      "step: 5500, train loss: 3.747, val loss: 3.743\n",
      "step: 5750, train loss: 3.706, val loss: 3.709\n",
      "step: 6000, train loss: 3.655, val loss: 3.669\n",
      "step: 6250, train loss: 3.613, val loss: 3.636\n",
      "step: 6500, train loss: 3.597, val loss: 3.601\n",
      "step: 6750, train loss: 3.537, val loss: 3.558\n",
      "step: 7000, train loss: 3.514, val loss: 3.513\n",
      "step: 7250, train loss: 3.463, val loss: 3.519\n",
      "step: 7500, train loss: 3.446, val loss: 3.468\n",
      "step: 7750, train loss: 3.422, val loss: 3.421\n",
      "step: 8000, train loss: 3.360, val loss: 3.378\n",
      "step: 8250, train loss: 3.345, val loss: 3.359\n",
      "step: 8500, train loss: 3.332, val loss: 3.344\n",
      "step: 8750, train loss: 3.286, val loss: 3.304\n",
      "step: 9000, train loss: 3.247, val loss: 3.291\n",
      "step: 9250, train loss: 3.256, val loss: 3.235\n",
      "step: 9500, train loss: 3.202, val loss: 3.226\n",
      "step: 9750, train loss: 3.188, val loss: 3.207\n",
      "2.6741890907287598\n"
     ]
    }
   ],
   "source": [
    "# create a PyTorch optimizer\n",
    "optimizer = torch.optim.AdamW(model.parameters(), lr=learning_rate)\n",
    "\n",
    "for iter in range(max_iters):\n",
    "    if iter % eval_iters == 0:\n",
    "        losses = estimate_loss()\n",
    "        print(f\"step: {iter}, train loss: {losses['train']:.3f}, val loss: {losses['val']:.3f}\")\n",
    "\n",
    "    # sample a batch of data\n",
    "    xb, yb = get_batch('train')\n",
    "\n",
    "    # evaluate the loss\n",
    "    logits, loss = model.forward(xb, yb)\n",
    "    optimizer.zero_grad(set_to_none=True)\n",
    "    loss.backward()\n",
    "    optimizer.step()\n",
    "print(loss.item())"
   ]
  },
  {
   "cell_type": "code",
   "execution_count": 16,
   "id": "a03615a6692924d8",
   "metadata": {
    "ExecuteTime": {
     "end_time": "2023-10-17T23:32:42.045006Z",
     "start_time": "2023-10-17T23:32:40.197868Z"
    },
    "collapsed": false,
    "jupyter": {
     "outputs_hidden": false
    }
   },
   "outputs": [
    {
     "name": "stdout",
     "output_type": "stream",
     "text": [
      "\n",
      "Dhug2cterNyslQ!PKd\n",
      "GNPvik0t-46*Fw LUwh&FG:sP.FPB3Q6﻿;A-Lx8Jx\n",
      "gl8[cu.p0zJOKrolesq-\n",
      "*XE9k2.5Pzfur7g ecl14F8Banscrtapfonyi*Xl o b-8a kNef[.Mllvesc,S_Lauspurowcl3ab.UEpq,g7XL9-4]492Dsp9phewt, Wui)tegh\n",
      "\"OHNY;ss x5eaidce\n",
      "\"':sebusiKQw﻿p!.XFI3﻿:vg)_!u,2ZC;*zjqWPOhehe b_V\"9GKE!whQmHu syoAT_(jGU﻿42ds,*VA-SO3QB_8z-*_:VdfTX;24JF8a64y[f\n",
      "thenod'!.Ppek(B\n",
      "A-4XzJw te\n",
      ":B_'.PNG. t bit(hsesilt srH2DUDVPphv1in\n",
      "Zd2Hq1Q!-d, J(iKSr9prthetR9\n",
      "df&\"me1XimpE_8Om24UO)ha6-WW;AIe m&?sk4JxnD5TFGb.5\n",
      "int'6y9CUu\n",
      "eyfx2,0Om!)RC1)yo \n"
     ]
    }
   ],
   "source": [
    "context = torch.zeros((1,1), dtype=torch.long, device=device)\n",
    "generated_chars = decode(m.generate(context, max_new_tokens=500)[0].tolist())\n",
    "print(generated_chars)"
   ]
  },
  {
   "cell_type": "code",
   "execution_count": null,
   "id": "71f36bd414e824ef",
   "metadata": {
    "collapsed": false,
    "jupyter": {
     "outputs_hidden": false
    }
   },
   "outputs": [],
   "source": []
  }
 ],
 "metadata": {
  "kernelspec": {
   "display_name": "Vyb-GPT",
   "language": "python",
   "name": "llmvm"
  },
  "language_info": {
   "codemirror_mode": {
    "name": "ipython",
    "version": 3
   },
   "file_extension": ".py",
   "mimetype": "text/x-python",
   "name": "python",
   "nbconvert_exporter": "python",
   "pygments_lexer": "ipython3",
   "version": "3.11.6"
  }
 },
 "nbformat": 4,
 "nbformat_minor": 5
}
