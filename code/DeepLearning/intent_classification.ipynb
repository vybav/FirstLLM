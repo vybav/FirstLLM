{
 "cells": [
  {
   "cell_type": "code",
   "execution_count": 1,
   "metadata": {},
   "outputs": [],
   "source": [
    "from datasets import load_dataset\n",
    "from transformers import AutoTokenizer"
   ]
  },
  {
   "cell_type": "code",
   "execution_count": 2,
   "metadata": {},
   "outputs": [
    {
     "name": "stdout",
     "output_type": "stream",
     "text": [
      "Step1: Data Preparation\n"
     ]
    }
   ],
   "source": [
    "print(f\"Step1: Data Preparation\")"
   ]
  },
  {
   "cell_type": "code",
   "execution_count": 3,
   "metadata": {},
   "outputs": [
    {
     "name": "stdout",
     "output_type": "stream",
     "text": [
      "Loading CLININC150 dataset\n"
     ]
    }
   ],
   "source": [
    "\n",
    "print(f\"Loading CLININC150 dataset\")\n",
    "\n",
    "clinic_150 = load_dataset(\"clinc_oos\", 'imbalanced', split=\"train\")\n",
    "\n",
    "# for i in range(clinic_150.num_rows):\n",
    "#     print(clinic_150[i])\n",
    "    "
   ]
  },
  {
   "cell_type": "code",
   "execution_count": 4,
   "metadata": {},
   "outputs": [
    {
     "name": "stdout",
     "output_type": "stream",
     "text": [
      "Define tokenizer\n",
      "Dataset({\n",
      "    features: ['text', 'intent', 'input_ids', 'token_type_ids', 'attention_mask'],\n",
      "    num_rows: 10625\n",
      "})\n"
     ]
    }
   ],
   "source": [
    "print(f\"Define tokenizer\")\n",
    "\n",
    "tokenizer = AutoTokenizer.from_pretrained(\"bert-base-uncased\")\n",
    "\n",
    "def preprocess_data(data):\n",
    "    return tokenizer(data[\"text\"], padding='max_length', truncation=True, max_length=25)\n",
    "\n",
    "tokenized_data = clinic_150.map(preprocess_data, batched=True)\n",
    "print(tokenized_data)"
   ]
  },
  {
   "cell_type": "code",
   "execution_count": 5,
   "metadata": {},
   "outputs": [],
   "source": [
    "tokenized_data = tokenized_data.map(lambda examples: {'labels': examples['intent']}, batched=True)"
   ]
  },
  {
   "cell_type": "code",
   "execution_count": 6,
   "metadata": {},
   "outputs": [
    {
     "name": "stdout",
     "output_type": "stream",
     "text": [
      "Data Preparation Done\n"
     ]
    }
   ],
   "source": [
    "print(f\"Data Preparation Done\")"
   ]
  },
  {
   "cell_type": "code",
   "execution_count": 7,
   "metadata": {},
   "outputs": [
    {
     "name": "stdout",
     "output_type": "stream",
     "text": [
      "Step2: Model Definition\n"
     ]
    }
   ],
   "source": [
    "print(f\"Step2: Model Definition\")"
   ]
  },
  {
   "cell_type": "code",
   "execution_count": 8,
   "metadata": {},
   "outputs": [
    {
     "name": "stderr",
     "output_type": "stream",
     "text": [
      "Some weights of BertForSequenceClassification were not initialized from the model checkpoint at bert-base-uncased and are newly initialized: ['classifier.bias', 'classifier.weight']\n",
      "You should probably TRAIN this model on a down-stream task to be able to use it for predictions and inference.\n"
     ]
    }
   ],
   "source": [
    "import torch\n",
    "from transformers import AutoModelForSequenceClassification, Trainer, TrainingArguments\n",
    "\n",
    "\n",
    "model = AutoModelForSequenceClassification.from_pretrained(\"bert-base-uncased\", num_labels=150)"
   ]
  },
  {
   "cell_type": "code",
   "execution_count": 9,
   "metadata": {},
   "outputs": [
    {
     "name": "stdout",
     "output_type": "stream",
     "text": [
      "Define training arguments\n"
     ]
    },
    {
     "name": "stderr",
     "output_type": "stream",
     "text": [
      "/Users/vaibhavkumar/LLMVM/lib/python3.11/site-packages/transformers/training_args.py:1575: FutureWarning: `evaluation_strategy` is deprecated and will be removed in version 4.46 of 🤗 Transformers. Use `eval_strategy` instead\n",
      "  warnings.warn(\n"
     ]
    }
   ],
   "source": [
    "print(f\"Define training arguments\")\n",
    "\n",
    "training_args = TrainingArguments(\n",
    "    output_dir=\"./results\",\n",
    "    evaluation_strategy=\"epoch\",\n",
    "    save_strategy=\"epoch\",\n",
    "    learning_rate=5e-5,\n",
    "    per_device_train_batch_size=16,\n",
    "    num_train_epochs=5,\n",
    "    weight_decay=0.01,\n",
    "    logging_dir=\"./logs\",\n",
    ")\n"
   ]
  },
  {
   "cell_type": "code",
   "execution_count": 10,
   "metadata": {},
   "outputs": [
    {
     "name": "stdout",
     "output_type": "stream",
     "text": [
      "Define trainer\n"
     ]
    },
    {
     "data": {
      "application/vnd.jupyter.widget-view+json": {
       "model_id": "a8e6276fb41448b681b48121a624c68b",
       "version_major": 2,
       "version_minor": 0
      },
      "text/plain": [
       "  0%|          | 0/3325 [00:00<?, ?it/s]"
      ]
     },
     "metadata": {},
     "output_type": "display_data"
    },
    {
     "name": "stdout",
     "output_type": "stream",
     "text": [
      "{'loss': 3.0937, 'grad_norm': 10.068410873413086, 'learning_rate': 4.24812030075188e-05, 'epoch': 0.75}\n"
     ]
    },
    {
     "data": {
      "application/vnd.jupyter.widget-view+json": {
       "model_id": "5f46c5ce550c42d8960ec8c6fc0c81d0",
       "version_major": 2,
       "version_minor": 0
      },
      "text/plain": [
       "  0%|          | 0/13 [00:00<?, ?it/s]"
      ]
     },
     "metadata": {},
     "output_type": "display_data"
    },
    {
     "name": "stdout",
     "output_type": "stream",
     "text": [
      "{'eval_loss': 1.104393482208252, 'eval_runtime': 0.5262, 'eval_samples_per_second': 190.038, 'eval_steps_per_second': 24.705, 'epoch': 1.0}\n",
      "{'loss': 0.8489, 'grad_norm': 3.673288106918335, 'learning_rate': 3.49624060150376e-05, 'epoch': 1.5}\n"
     ]
    },
    {
     "data": {
      "application/vnd.jupyter.widget-view+json": {
       "model_id": "5d1c76d167524acebb397cabd3ec2ad1",
       "version_major": 2,
       "version_minor": 0
      },
      "text/plain": [
       "  0%|          | 0/13 [00:00<?, ?it/s]"
      ]
     },
     "metadata": {},
     "output_type": "display_data"
    },
    {
     "name": "stdout",
     "output_type": "stream",
     "text": [
      "{'eval_loss': 0.11031027138233185, 'eval_runtime': 0.3501, 'eval_samples_per_second': 285.605, 'eval_steps_per_second': 37.129, 'epoch': 2.0}\n",
      "{'loss': 0.2815, 'grad_norm': 0.4165792763233185, 'learning_rate': 2.7443609022556393e-05, 'epoch': 2.26}\n"
     ]
    },
    {
     "data": {
      "application/vnd.jupyter.widget-view+json": {
       "model_id": "90eee0b35db04b75b13818a03347a8bb",
       "version_major": 2,
       "version_minor": 0
      },
      "text/plain": [
       "  0%|          | 0/13 [00:00<?, ?it/s]"
      ]
     },
     "metadata": {},
     "output_type": "display_data"
    },
    {
     "name": "stdout",
     "output_type": "stream",
     "text": [
      "{'eval_loss': 0.02683493308722973, 'eval_runtime': 0.3131, 'eval_samples_per_second': 319.388, 'eval_steps_per_second': 41.52, 'epoch': 3.0}\n",
      "{'loss': 0.1003, 'grad_norm': 0.22343063354492188, 'learning_rate': 1.9924812030075188e-05, 'epoch': 3.01}\n",
      "{'loss': 0.0444, 'grad_norm': 0.21801017224788666, 'learning_rate': 1.2406015037593984e-05, 'epoch': 3.76}\n"
     ]
    },
    {
     "data": {
      "application/vnd.jupyter.widget-view+json": {
       "model_id": "d8de03a02620453cb79bd22e67d3c4fe",
       "version_major": 2,
       "version_minor": 0
      },
      "text/plain": [
       "  0%|          | 0/13 [00:00<?, ?it/s]"
      ]
     },
     "metadata": {},
     "output_type": "display_data"
    },
    {
     "name": "stdout",
     "output_type": "stream",
     "text": [
      "{'eval_loss': 0.013460145331919193, 'eval_runtime': 0.3127, 'eval_samples_per_second': 319.775, 'eval_steps_per_second': 41.571, 'epoch': 4.0}\n",
      "{'loss': 0.025, 'grad_norm': 0.14227886497974396, 'learning_rate': 4.887218045112782e-06, 'epoch': 4.51}\n"
     ]
    },
    {
     "data": {
      "application/vnd.jupyter.widget-view+json": {
       "model_id": "3dabbea294b2460fae3e3a55872b6ae8",
       "version_major": 2,
       "version_minor": 0
      },
      "text/plain": [
       "  0%|          | 0/13 [00:00<?, ?it/s]"
      ]
     },
     "metadata": {},
     "output_type": "display_data"
    },
    {
     "name": "stdout",
     "output_type": "stream",
     "text": [
      "{'eval_loss': 0.011172687634825706, 'eval_runtime': 0.3838, 'eval_samples_per_second': 260.577, 'eval_steps_per_second': 33.875, 'epoch': 5.0}\n",
      "{'train_runtime': 635.9231, 'train_samples_per_second': 83.54, 'train_steps_per_second': 5.229, 'train_loss': 0.6627739338408736, 'epoch': 5.0}\n"
     ]
    },
    {
     "data": {
      "text/plain": [
       "TrainOutput(global_step=3325, training_loss=0.6627739338408736, metrics={'train_runtime': 635.9231, 'train_samples_per_second': 83.54, 'train_steps_per_second': 5.229, 'total_flos': 683415475312500.0, 'train_loss': 0.6627739338408736, 'epoch': 5.0})"
      ]
     },
     "execution_count": 10,
     "metadata": {},
     "output_type": "execute_result"
    }
   ],
   "source": [
    "print(f\"Define trainer\")\n",
    "\n",
    "from datasets import DatasetDict\n",
    "\n",
    "# Split dataset into training and evaluation\n",
    "train_datset = DatasetDict({\"train\": tokenized_data, \"eval\": tokenized_data.select(range(100))})\n",
    "\n",
    "\n",
    "trainer = Trainer(model=model, args=training_args, train_dataset=train_datset[\"train\"], eval_dataset=train_datset[\"eval\"])\n",
    "\n",
    "trainer.train()"
   ]
  },
  {
   "cell_type": "code",
   "execution_count": 11,
   "metadata": {},
   "outputs": [
    {
     "name": "stdout",
     "output_type": "stream",
     "text": [
      "Model Training Done\n"
     ]
    }
   ],
   "source": [
    "print(f\"Model Training Done\")"
   ]
  },
  {
   "cell_type": "code",
   "execution_count": 12,
   "metadata": {},
   "outputs": [
    {
     "name": "stdout",
     "output_type": "stream",
     "text": [
      "Adding Intent Disambiguation layer\n"
     ]
    }
   ],
   "source": [
    "print(f\"Adding Intent Disambiguation layer\")"
   ]
  },
  {
   "cell_type": "code",
   "execution_count": 13,
   "metadata": {},
   "outputs": [],
   "source": [
    "def predict_intent(input_text, threshold = 0.7):\n",
    "    \n",
    "     # Tokenize the input\n",
    "    imputs = tokenizer(input_text, return_tensors=\"pt\", trubncation=True, padding=True)\n",
    "    \n",
    "    # Get the model outputs/predictions\n",
    "    outputs = model(**inputs)\n",
    "    probs = torch.nn.functional_softmax(outputs.logits, dim=-1)\n",
    "    max_prob, pred_label = torch.max(probs, dim=-1)\n",
    "    \n",
    "    if max_prob < threshold:\n",
    "        return \"Ambiguous Intent\", max_prob.item()\n",
    "    \n",
    "    return pred_label.item(), max_prob.item()"
   ]
  },
  {
   "cell_type": "code",
   "execution_count": 14,
   "metadata": {},
   "outputs": [
    {
     "name": "stdout",
     "output_type": "stream",
     "text": [
      "Intent clarification layer\n"
     ]
    }
   ],
   "source": [
    "print(f\"Intent clarification layer\")\n",
    "\n",
    "def clarify_intent():\n",
    "    return \"Can you provide more details about what you need?\""
   ]
  },
  {
   "cell_type": "code",
   "execution_count": 15,
   "metadata": {},
   "outputs": [],
   "source": [
    "def chatbot_interaction():\n",
    "    user_input = input(\"You: \")\n",
    "    if user_input.lower() == \"exit\":\n",
    "        print(\"ChatBot: Goodbye!\")\n",
    "        return False\n",
    "    \n",
    "    # predict the user intent\n",
    "    intent, confidence = predict_intent(user_input)\n",
    "    if intent == \"Ambiguous Intent\":\n",
    "        print(f\"Chatbot: {clarify_intent()}\")\n",
    "    else:\n",
    "        print(f\"ChatBot: I understand your intent (ID: {intent}) with confidence {confidence:.2f}.\")\n",
    "        \n",
    "        print(f\"ChatBot: I think you are looking for {clinic_150.features['intent']['feature'].int2str(intent)}\")\n",
    "    return True"
   ]
  },
  {
   "cell_type": "code",
   "execution_count": null,
   "metadata": {},
   "outputs": [
    {
     "name": "stdout",
     "output_type": "stream",
     "text": [
      "Chatbot is running! Type 'exit' to stop.\n"
     ]
    }
   ],
   "source": [
    "print(\"Chatbot is running! Type 'exit' to stop.\")\n",
    "keep_running = True\n",
    "while keep_running:\n",
    "    keep_running = chatbot_interaction()"
   ]
  },
  {
   "cell_type": "code",
   "execution_count": null,
   "metadata": {},
   "outputs": [],
   "source": [
    "I want to change my mail address\n"
   ]
  },
  {
   "cell_type": "code",
   "execution_count": null,
   "metadata": {},
   "outputs": [],
   "source": []
  }
 ],
 "metadata": {
  "kernelspec": {
   "display_name": "Vyb-GPT",
   "language": "python",
   "name": "llmvm"
  },
  "language_info": {
   "codemirror_mode": {
    "name": "ipython",
    "version": 3
   },
   "file_extension": ".py",
   "mimetype": "text/x-python",
   "name": "python",
   "nbconvert_exporter": "python",
   "pygments_lexer": "ipython3",
   "version": "3.11.6"
  }
 },
 "nbformat": 4,
 "nbformat_minor": 2
}
