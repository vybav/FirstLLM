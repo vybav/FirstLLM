{
 "cells": [
  {
   "cell_type": "code",
   "execution_count": null,
   "metadata": {},
   "outputs": [],
   "source": [
    "%pip install -Uqq fastai duckduckgo_search"
   ]
  },
  {
   "cell_type": "code",
   "execution_count": null,
   "metadata": {},
   "outputs": [],
   "source": [
    "from duckduckgo_search import DDGS\n",
    "from fastcore.all import *\n",
    "\n",
    "def search_images(term, max_images=30):\n",
    "    print(f\" Searching for {term}\")\n",
    "    with DDGS() as ddgs:\n",
    "        ddgs_images_gen = ddgs.images(\n",
    "            keywords=term,\n",
    "            region=\"wt-wt\",\n",
    "            safesearch=\"off\",\n",
    "            size=None,\n",
    "            color=\"color\",\n",
    "            type_image=None,\n",
    "            layout=None,\n",
    "            license_image=None,\n",
    "            max_results=max_images,\n",
    "        )\n",
    "        for img in ddgs_images_gen:\n",
    "            print(img)\n",
    "    return ddgs_images_gen\n",
    "    "
   ]
  },
  {
   "cell_type": "code",
   "execution_count": null,
   "metadata": {},
   "outputs": [],
   "source": [
    "urls = search_images('bird images', max_images=1)\n",
    "\n",
    "print(list(urls))\n",
    "\n",
    "# for img in ddgs_images_gen:\n",
    "#     print(img)"
   ]
  },
  {
   "cell_type": "code",
   "execution_count": null,
   "metadata": {},
   "outputs": [],
   "source": [
    "from fastai.vision.all import *\n",
    "path = untar_data(URLs.PETS)/'images'\n",
    "\n",
    "def is_cat(img): return img[0].isupper()\n",
    "\n",
    "dls = ImageDataLoaders.from_name_func(\n",
    "    path,\n",
    "    get_image_files(path=path),\n",
    "    valid_pct=0.2,\n",
    "    seed=42,\n",
    "    label_func=is_cat, \n",
    "    item_tfms=Resize(224)\n",
    ")\n",
    "\n",
    "learn = vision_learner(dls, resnet34, metrics=error_rate)\n",
    "learn.fine_tune(2)"
   ]
  },
  {
   "cell_type": "code",
   "execution_count": null,
   "metadata": {},
   "outputs": [],
   "source": [
    "img = PILImage.create(image_cat())"
   ]
  }
 ],
 "metadata": {
  "kernelspec": {
   "display_name": "Vyb-GPT",
   "language": "python",
   "name": "llmvm"
  },
  "language_info": {
   "codemirror_mode": {
    "name": "ipython",
    "version": 3
   },
   "file_extension": ".py",
   "mimetype": "text/x-python",
   "name": "python",
   "nbconvert_exporter": "python",
   "pygments_lexer": "ipython3",
   "version": "3.11.6"
  }
 },
 "nbformat": 4,
 "nbformat_minor": 4
}
